{
 "cells": [
  {
   "cell_type": "code",
   "execution_count": 1,
   "id": "f7f4dbb7-986b-4eec-8b15-a99bf5ebb536",
   "metadata": {},
   "outputs": [],
   "source": [
    "import pandas as pd\n",
    "import numpy as np\n",
    "import matplotlib.pyplot as plt"
   ]
  },
  {
   "cell_type": "markdown",
   "id": "bbc08fa2-9117-4629-a519-007ad40c1e4c",
   "metadata": {},
   "source": [
    "---\n",
    "1. Total Scope 1 and 2 Emissions (tons of CO2e): This is the dependent variable that represents the combined direct and indirect greenhouse gas emissions.\n",
    "2. Charlie (in mil USD): Represents costs incurred on the emission.\n",
    "3. Romeo (mil USD): Represent production value of emission.\n",
    "4. Echo (Number): The total number of community members affected.\n",
    "5. Alpha (mil USD): Total market capital of the company.\n",
    "---"
   ]
  },
  {
   "cell_type": "markdown",
   "id": "aab82ac8-0e26-4db4-b19e-c99bddd3300e",
   "metadata": {},
   "source": [
    "#### Methodology for Model Development\n",
    "\n",
    "1. Describe the methodology applied for developing Scope 1 and 2 emission estimation models.\n",
    "2. Justify the choice of the model/methodology using statistical logic and reasoning.\n",
    "---\n",
    "#### Model Results Summary\n",
    "1. Provide an overview and summary of the results obtained from the developed models.\n",
    "Model Validation\n",
    "2. Briefly explain the model validation process.\n",
    "3. Justify the choice of metrics or validation process used, highlighting their relevance and effectiveness.\n",
    "\n",
    "---\n",
    "\n",
    "#### Sector Analysis\n",
    "1. Identify and analyze which sectors have higher Scope 1 and 2 emissions and which have lower\n",
    "emissions.\n",
    "2. Explain the reasons behind the differences in emission levels across sectors.\n",
    "---\n",
    "#### Data Requirements for Model Improvement\n",
    "1. Identify additional data that could improve the accuracy and reliability of the emission\n",
    "estimation models.\n",
    "2. Explain how the additional data would enhance the models and lead to better results.o better results."
   ]
  },
  {
   "cell_type": "code",
   "execution_count": 17,
   "id": "1880b396-0299-4cd9-9308-43b413156dfa",
   "metadata": {},
   "outputs": [],
   "source": [
    "# %cd .."
   ]
  },
  {
   "cell_type": "code",
   "execution_count": 18,
   "id": "43e2e29c-e08e-4072-be54-14501f02f41b",
   "metadata": {
    "scrolled": true
   },
   "outputs": [
    {
     "name": "stdout",
     "output_type": "stream",
     "text": [
      "<class 'pandas.core.frame.DataFrame'>\n",
      "RangeIndex: 872 entries, 0 to 871\n",
      "Data columns (total 7 columns):\n",
      " #   Column               Non-Null Count  Dtype  \n",
      "---  ------               --------------  -----  \n",
      " 0   Company Identifier   872 non-null    int64  \n",
      " 1   Total S1+S2 (tCo2e)  872 non-null    int32  \n",
      " 2   Subsector Name       872 non-null    object \n",
      " 3   Charlie (milUSD)     615 non-null    float64\n",
      " 4   Alpha (milUSD)       797 non-null    float64\n",
      " 5   Romeo (milUSD)       808 non-null    float64\n",
      " 6   Echo                 753 non-null    float64\n",
      "dtypes: float64(4), int32(1), int64(1), object(1)\n",
      "memory usage: 44.4+ KB\n"
     ]
    }
   ],
   "source": [
    "data_path = r\"ISSCaseStudy_Sample data for modelling.csv\"\n",
    "\n",
    "df = pd.read_csv(data_path)\n",
    "df[\"Total S1+S2 (tCo2e)\"] = df[\"Total S1+S2 (tCo2e)\"].astype(int)\n",
    "df.info()"
   ]
  },
  {
   "cell_type": "markdown",
   "id": "c8ac7b1f-242c-4aac-9633-63e8055a5dc9",
   "metadata": {},
   "source": [
    "#### Data Preprocessing\n",
    "\n",
    "- Since there are 872 rows in a dataframe and out of which charlie has the the most number of NaN's followed by 75 in Alpha, 64 in Alpha and 119 in Echo, so dropping the value would significantly result in data loss.\n",
    "- There are multiple ways to handle NaN's but I am going with filling those NaN's with their respective sectore wise median value"
   ]
  },
  {
   "cell_type": "code",
   "execution_count": 19,
   "id": "65308de6-7b95-4b48-9e2c-c42f7fb454c6",
   "metadata": {
    "scrolled": true
   },
   "outputs": [
    {
     "data": {
      "text/plain": [
       "Company Identifier       0\n",
       "Total S1+S2 (tCo2e)      0\n",
       "Subsector Name           0\n",
       "Charlie (milUSD)       257\n",
       "Alpha (milUSD)          75\n",
       "Romeo (milUSD)          64\n",
       "Echo                   119\n",
       "dtype: int64"
      ]
     },
     "execution_count": 19,
     "metadata": {},
     "output_type": "execute_result"
    }
   ],
   "source": [
    "## Nan values per column\n",
    "df.isna().sum()"
   ]
  },
  {
   "cell_type": "code",
   "execution_count": 20,
   "id": "05cbd763-14cc-4604-8f38-e35c79007780",
   "metadata": {
    "scrolled": true
   },
   "outputs": [],
   "source": [
    "sector_medians = df.groupby(\"Subsector Name\")[[\"Charlie (milUSD)\",\n",
    "                             \"Alpha (milUSD)\",\"Romeo (milUSD)\",\n",
    "                             \"Echo\"]].median().T.to_dict()"
   ]
  },
  {
   "cell_type": "code",
   "execution_count": 21,
   "id": "2c5758f2-51ee-4136-8a52-b5c0d11cecd2",
   "metadata": {},
   "outputs": [],
   "source": [
    "def fill_missing_values(row):\n",
    "    sector = row['Subsector Name']\n",
    "    for col in [\"Charlie (milUSD)\",\"Alpha (milUSD)\",\"Romeo (milUSD)\",\"Echo\"]:\n",
    "        if pd.isna(row[col]) and sector in sector_medians:\n",
    "            row[col] = sector_medians[sector][col]\n",
    "    return row\n",
    "\n",
    "df = df.apply(fill_missing_values, axis = 1)"
   ]
  },
  {
   "cell_type": "code",
   "execution_count": 22,
   "id": "9c02b373-34ed-4a7f-b66c-1c2640194091",
   "metadata": {},
   "outputs": [],
   "source": [
    "# # Create new features\n",
    "# df['Energy_Intensity'] = df['Total S1+S2 (tCo2e)'] / df['Charlie (milUSD)']\n",
    "# df['Emissions_per_Production'] = df['Total S1+S2 (tCo2e)'] / df['Romeo (milUSD)']\n",
    "# df['Raw_Material_Intensity'] = df['Total S1+S2 (tCo2e)'] / df['Alpha (milUSD)']\n",
    "\n",
    "# # Normalize features by sector medians\n",
    "# for sector in sector_medians.keys():\n",
    "#     mask = df['Subsector Name'] == sector\n",
    "#     df.loc[mask, 'Normalized_Charlie'] = df.loc[mask, 'Charlie (milUSD)'] / sector_medians[sector]['Charlie (milUSD)']\n",
    "#     df.loc[mask, 'Normalized_Alpha'] = df.loc[mask, 'Alpha (milUSD)'] / sector_medians[sector]['Alpha (milUSD)']\n",
    "#     df.loc[mask, 'Normalized_Romeo'] = df.loc[mask, 'Romeo (milUSD)'] / sector_medians[sector]['Romeo (milUSD)']\n",
    "#     df.loc[mask, 'Normalized_Echo'] = df.loc[mask, 'Echo'] / sector_medians[sector]['Echo']\n",
    "\n",
    "# # Relative Emission Intensity\n",
    "# sector_emissions_median = df.groupby('Subsector Name')['Total S1+S2 (tCo2e)'].median().to_dict()\n",
    "# df['Relative_Emission_Intensity'] = df.apply(lambda x: x['Total S1+S2 (tCo2e)'] / sector_emissions_median[x['Subsector Name']], axis=1)\n"
   ]
  },
  {
   "cell_type": "markdown",
   "id": "c432566a-3bd9-4640-99ce-4e86d0b1ac86",
   "metadata": {},
   "source": [
    "__Entries in total marker capital of the company, production value of emmision and total number of community member can't be negative and represents data error, there are not significant number of values below 0, so dropping them won't result in huge data loss__"
   ]
  },
  {
   "cell_type": "code",
   "execution_count": 23,
   "id": "5abd127e-5099-4a62-8e5d-171fce1b8007",
   "metadata": {},
   "outputs": [
    {
     "data": {
      "text/html": [
       "<div>\n",
       "<style scoped>\n",
       "    .dataframe tbody tr th:only-of-type {\n",
       "        vertical-align: middle;\n",
       "    }\n",
       "\n",
       "    .dataframe tbody tr th {\n",
       "        vertical-align: top;\n",
       "    }\n",
       "\n",
       "    .dataframe thead th {\n",
       "        text-align: right;\n",
       "    }\n",
       "</style>\n",
       "<table border=\"1\" class=\"dataframe\">\n",
       "  <thead>\n",
       "    <tr style=\"text-align: right;\">\n",
       "      <th></th>\n",
       "      <th>Company Identifier</th>\n",
       "      <th>Total S1+S2 (tCo2e)</th>\n",
       "      <th>Charlie (milUSD)</th>\n",
       "      <th>Alpha (milUSD)</th>\n",
       "      <th>Romeo (milUSD)</th>\n",
       "      <th>Echo</th>\n",
       "    </tr>\n",
       "  </thead>\n",
       "  <tbody>\n",
       "    <tr>\n",
       "      <th>count</th>\n",
       "      <td>872.000000</td>\n",
       "      <td>8.720000e+02</td>\n",
       "      <td>838.000000</td>\n",
       "      <td>872.000000</td>\n",
       "      <td>872.000000</td>\n",
       "      <td>872.000000</td>\n",
       "    </tr>\n",
       "    <tr>\n",
       "      <th>mean</th>\n",
       "      <td>436.500000</td>\n",
       "      <td>2.464757e+06</td>\n",
       "      <td>6481.464870</td>\n",
       "      <td>3915.920496</td>\n",
       "      <td>11590.125072</td>\n",
       "      <td>27880.199885</td>\n",
       "    </tr>\n",
       "    <tr>\n",
       "      <th>std</th>\n",
       "      <td>251.869014</td>\n",
       "      <td>1.077697e+07</td>\n",
       "      <td>20173.407364</td>\n",
       "      <td>10452.772375</td>\n",
       "      <td>27104.154797</td>\n",
       "      <td>57113.328425</td>\n",
       "    </tr>\n",
       "    <tr>\n",
       "      <th>min</th>\n",
       "      <td>1.000000</td>\n",
       "      <td>1.600000e+01</td>\n",
       "      <td>0.000000</td>\n",
       "      <td>-2795.930473</td>\n",
       "      <td>-12611.749730</td>\n",
       "      <td>-96498.000000</td>\n",
       "    </tr>\n",
       "    <tr>\n",
       "      <th>25%</th>\n",
       "      <td>218.750000</td>\n",
       "      <td>1.831850e+04</td>\n",
       "      <td>162.403196</td>\n",
       "      <td>252.389670</td>\n",
       "      <td>1208.645307</td>\n",
       "      <td>2766.000000</td>\n",
       "    </tr>\n",
       "    <tr>\n",
       "      <th>50%</th>\n",
       "      <td>436.500000</td>\n",
       "      <td>1.128010e+05</td>\n",
       "      <td>1038.834952</td>\n",
       "      <td>977.934669</td>\n",
       "      <td>2966.695160</td>\n",
       "      <td>9506.000000</td>\n",
       "    </tr>\n",
       "    <tr>\n",
       "      <th>75%</th>\n",
       "      <td>654.250000</td>\n",
       "      <td>8.788098e+05</td>\n",
       "      <td>3644.120278</td>\n",
       "      <td>3113.841986</td>\n",
       "      <td>8906.832576</td>\n",
       "      <td>26076.500000</td>\n",
       "    </tr>\n",
       "    <tr>\n",
       "      <th>max</th>\n",
       "      <td>872.000000</td>\n",
       "      <td>1.950000e+08</td>\n",
       "      <td>220651.529600</td>\n",
       "      <td>116843.562800</td>\n",
       "      <td>272373.980200</td>\n",
       "      <td>664496.000000</td>\n",
       "    </tr>\n",
       "  </tbody>\n",
       "</table>\n",
       "</div>"
      ],
      "text/plain": [
       "       Company Identifier  Total S1+S2 (tCo2e)  Charlie (milUSD)  \\\n",
       "count          872.000000         8.720000e+02        838.000000   \n",
       "mean           436.500000         2.464757e+06       6481.464870   \n",
       "std            251.869014         1.077697e+07      20173.407364   \n",
       "min              1.000000         1.600000e+01          0.000000   \n",
       "25%            218.750000         1.831850e+04        162.403196   \n",
       "50%            436.500000         1.128010e+05       1038.834952   \n",
       "75%            654.250000         8.788098e+05       3644.120278   \n",
       "max            872.000000         1.950000e+08     220651.529600   \n",
       "\n",
       "       Alpha (milUSD)  Romeo (milUSD)           Echo  \n",
       "count      872.000000      872.000000     872.000000  \n",
       "mean      3915.920496    11590.125072   27880.199885  \n",
       "std      10452.772375    27104.154797   57113.328425  \n",
       "min      -2795.930473   -12611.749730  -96498.000000  \n",
       "25%        252.389670     1208.645307    2766.000000  \n",
       "50%        977.934669     2966.695160    9506.000000  \n",
       "75%       3113.841986     8906.832576   26076.500000  \n",
       "max     116843.562800   272373.980200  664496.000000  "
      ]
     },
     "execution_count": 23,
     "metadata": {},
     "output_type": "execute_result"
    }
   ],
   "source": [
    "df.describe()"
   ]
  },
  {
   "cell_type": "code",
   "execution_count": 24,
   "id": "9f93afc3-d982-42ef-a889-dbb06f7232ce",
   "metadata": {},
   "outputs": [
    {
     "data": {
      "image/png": "[encoded data removed]",
      "text/plain": [
       "<Figure size 640x480 with 1 Axes>"
      ]
     },
     "metadata": {},
     "output_type": "display_data"
    }
   ],
   "source": [
    "negative_counts = df[['Charlie (milUSD)', 'Alpha (milUSD)', 'Romeo (milUSD)', 'Echo']].apply(lambda x: (x < 0).sum())\n",
    "\n",
    "negative_counts.plot(kind='barh', color='blue', edgecolor='red')\n",
    "plt.title('Count of Negative Values in Columns')\n",
    "plt.xlabel('Columns')\n",
    "plt.ylabel('Number of Negative Values')\n",
    "plt.show()"
   ]
  },
  {
   "cell_type": "code",
   "execution_count": 25,
   "id": "645da59a-d585-414b-9d68-b5836b5cb90c",
   "metadata": {},
   "outputs": [
    {
     "data": {
      "text/html": [
       "<div>\n",
       "<style scoped>\n",
       "    .dataframe tbody tr th:only-of-type {\n",
       "        vertical-align: middle;\n",
       "    }\n",
       "\n",
       "    .dataframe tbody tr th {\n",
       "        vertical-align: top;\n",
       "    }\n",
       "\n",
       "    .dataframe thead th {\n",
       "        text-align: right;\n",
       "    }\n",
       "</style>\n",
       "<table border=\"1\" class=\"dataframe\">\n",
       "  <thead>\n",
       "    <tr style=\"text-align: right;\">\n",
       "      <th></th>\n",
       "      <th>Company Identifier</th>\n",
       "      <th>Total S1+S2 (tCo2e)</th>\n",
       "      <th>Subsector Name</th>\n",
       "      <th>Charlie (milUSD)</th>\n",
       "      <th>Alpha (milUSD)</th>\n",
       "      <th>Romeo (milUSD)</th>\n",
       "      <th>Echo</th>\n",
       "    </tr>\n",
       "  </thead>\n",
       "  <tbody>\n",
       "    <tr>\n",
       "      <th>0</th>\n",
       "      <td>1</td>\n",
       "      <td>6399</td>\n",
       "      <td>Software</td>\n",
       "      <td>1095.971939</td>\n",
       "      <td>213.081635</td>\n",
       "      <td>2650.219949</td>\n",
       "      <td>8558.0</td>\n",
       "    </tr>\n",
       "    <tr>\n",
       "      <th>1</th>\n",
       "      <td>2</td>\n",
       "      <td>59990</td>\n",
       "      <td>Software</td>\n",
       "      <td>1270.020324</td>\n",
       "      <td>1061.630736</td>\n",
       "      <td>8869.070062</td>\n",
       "      <td>21357.0</td>\n",
       "    </tr>\n",
       "    <tr>\n",
       "      <th>2</th>\n",
       "      <td>3</td>\n",
       "      <td>296160</td>\n",
       "      <td>Specialty Chemicals</td>\n",
       "      <td>6292.864579</td>\n",
       "      <td>2018.705686</td>\n",
       "      <td>10689.439260</td>\n",
       "      <td>34500.0</td>\n",
       "    </tr>\n",
       "    <tr>\n",
       "      <th>3</th>\n",
       "      <td>4</td>\n",
       "      <td>960000</td>\n",
       "      <td>Specialty Chemicals</td>\n",
       "      <td>2107.656246</td>\n",
       "      <td>2956.230233</td>\n",
       "      <td>3302.499773</td>\n",
       "      <td>5900.0</td>\n",
       "    </tr>\n",
       "    <tr>\n",
       "      <th>4</th>\n",
       "      <td>5</td>\n",
       "      <td>253641</td>\n",
       "      <td>Health Care  Services</td>\n",
       "      <td>8208.619341</td>\n",
       "      <td>1746.387752</td>\n",
       "      <td>11090.105310</td>\n",
       "      <td>61000.0</td>\n",
       "    </tr>\n",
       "    <tr>\n",
       "      <th>...</th>\n",
       "      <td>...</td>\n",
       "      <td>...</td>\n",
       "      <td>...</td>\n",
       "      <td>...</td>\n",
       "      <td>...</td>\n",
       "      <td>...</td>\n",
       "      <td>...</td>\n",
       "    </tr>\n",
       "    <tr>\n",
       "      <th>867</th>\n",
       "      <td>868</td>\n",
       "      <td>1423965</td>\n",
       "      <td>Oil &amp; Gas Storage &amp; Transportation</td>\n",
       "      <td>3183.102765</td>\n",
       "      <td>2087.455814</td>\n",
       "      <td>3668.409827</td>\n",
       "      <td>3269.5</td>\n",
       "    </tr>\n",
       "    <tr>\n",
       "      <th>868</th>\n",
       "      <td>869</td>\n",
       "      <td>16898</td>\n",
       "      <td>Automobiles</td>\n",
       "      <td>993.242228</td>\n",
       "      <td>408.682552</td>\n",
       "      <td>1431.694628</td>\n",
       "      <td>2532.0</td>\n",
       "    </tr>\n",
       "    <tr>\n",
       "      <th>869</th>\n",
       "      <td>870</td>\n",
       "      <td>2983522</td>\n",
       "      <td>Coal</td>\n",
       "      <td>1244.507989</td>\n",
       "      <td>1587.863458</td>\n",
       "      <td>1937.988418</td>\n",
       "      <td>0.0</td>\n",
       "    </tr>\n",
       "    <tr>\n",
       "      <th>870</th>\n",
       "      <td>871</td>\n",
       "      <td>2798000</td>\n",
       "      <td>Specialty Chemicals</td>\n",
       "      <td>1325.912145</td>\n",
       "      <td>778.332346</td>\n",
       "      <td>5874.240000</td>\n",
       "      <td>4639.0</td>\n",
       "    </tr>\n",
       "    <tr>\n",
       "      <th>871</th>\n",
       "      <td>872</td>\n",
       "      <td>240</td>\n",
       "      <td>Capital Markets</td>\n",
       "      <td>258.498748</td>\n",
       "      <td>85.028067</td>\n",
       "      <td>1412.428210</td>\n",
       "      <td>3165.5</td>\n",
       "    </tr>\n",
       "  </tbody>\n",
       "</table>\n",
       "<p>822 rows × 7 columns</p>\n",
       "</div>"
      ],
      "text/plain": [
       "     Company Identifier  Total S1+S2 (tCo2e)  \\\n",
       "0                     1                 6399   \n",
       "1                     2                59990   \n",
       "2                     3               296160   \n",
       "3                     4               960000   \n",
       "4                     5               253641   \n",
       "..                  ...                  ...   \n",
       "867                 868              1423965   \n",
       "868                 869                16898   \n",
       "869                 870              2983522   \n",
       "870                 871              2798000   \n",
       "871                 872                  240   \n",
       "\n",
       "                         Subsector Name  Charlie (milUSD)  Alpha (milUSD)  \\\n",
       "0                              Software       1095.971939      213.081635   \n",
       "1                              Software       1270.020324     1061.630736   \n",
       "2                   Specialty Chemicals       6292.864579     2018.705686   \n",
       "3                   Specialty Chemicals       2107.656246     2956.230233   \n",
       "4                 Health Care  Services       8208.619341     1746.387752   \n",
       "..                                  ...               ...             ...   \n",
       "867  Oil & Gas Storage & Transportation       3183.102765     2087.455814   \n",
       "868                         Automobiles        993.242228      408.682552   \n",
       "869                                Coal       1244.507989     1587.863458   \n",
       "870                 Specialty Chemicals       1325.912145      778.332346   \n",
       "871                     Capital Markets        258.498748       85.028067   \n",
       "\n",
       "     Romeo (milUSD)     Echo  \n",
       "0       2650.219949   8558.0  \n",
       "1       8869.070062  21357.0  \n",
       "2      10689.439260  34500.0  \n",
       "3       3302.499773   5900.0  \n",
       "4      11090.105310  61000.0  \n",
       "..              ...      ...  \n",
       "867     3668.409827   3269.5  \n",
       "868     1431.694628   2532.0  \n",
       "869     1937.988418      0.0  \n",
       "870     5874.240000   4639.0  \n",
       "871     1412.428210   3165.5  \n",
       "\n",
       "[822 rows x 7 columns]"
      ]
     },
     "execution_count": 25,
     "metadata": {},
     "output_type": "execute_result"
    }
   ],
   "source": [
    "df = df[(df['Charlie (milUSD)'] >= 0) & \n",
    "                (df['Alpha (milUSD)'] >= 0) & \n",
    "                (df['Romeo (milUSD)'] >= 0) & \n",
    "                (df['Echo'] >= 0)]\n",
    "df"
   ]
  },
  {
   "cell_type": "code",
   "execution_count": 26,
   "id": "39af076b-4d64-4d7e-ae49-419a9fa5a5f2",
   "metadata": {},
   "outputs": [
    {
     "data": {
      "text/plain": [
       "<Axes: xlabel='milUSD', ylabel='Subsector Name'>"
      ]
     },
     "execution_count": 26,
     "metadata": {},
     "output_type": "execute_result"
    },
    {
     "data": {
      "image/png": "[encoded data removed]",
      "text/plain": [
       "<Figure size 640x480 with 1 Axes>"
      ]
     },
     "metadata": {},
     "output_type": "display_data"
    }
   ],
   "source": [
    "## Sector wise Analysis\n",
    "# High emission sectors\n",
    "df.groupby(\"Subsector Name\")[\"Total S1+S2 (tCo2e)\"].sum().sort_values(ascending = False).plot(kind = \"barh\", xlim = (0, 1000000000),\n",
    "                                                                                             xlabel = \"milUSD\", color  = \"Purple\", legend  = True)"
   ]
  },
  {
   "cell_type": "markdown",
   "id": "0e130a57-a9fc-4dc0-93fe-03ce9c0a2709",
   "metadata": {},
   "source": [
    "---\n",
    "### Top 5 Subsector Emissions:\n",
    "- Cement Manufacturers\n",
    "- Oil & Gas Refining & Marketing\n",
    "- Aluminum\n",
    "- Oil & Gas Exploration & Production\n",
    "- Industrial Conglomerates\n",
    "---\n",
    "### Last 5 Subsector Emissions:\n",
    "- Regional Banks\n",
    "- Capital Markets\n",
    "- Health Care Services\n",
    "- Gambling\n",
    "- Computer Storage & Peripherals\n",
    "---\n",
    "- __Operational Differences: Industries like Specialty Chemicals, Cement Manufacturing, and Oil & Gas involve processes that inherently produce more emissions, such as chemical reactions, high heat requirements, and direct fossil fuel use.__\n",
    "- __Energy Efficiency: Sectors with lower emissions, such as Software, often benefit from more energy-efficient operations and less dependence on heavy industrial equipment.__"
   ]
  },
  {
   "cell_type": "code",
   "execution_count": null,
   "id": "5bbbc446-6bdf-42b1-83dd-25b8d2669c32",
   "metadata": {},
   "outputs": [],
   "source": []
  }
 ],
 "metadata": {
  "kernelspec": {
   "display_name": "Python 3 (ipykernel)",
   "language": "python",
   "name": "python3"
  },
  "language_info": {
   "codemirror_mode": {
    "name": "ipython",
    "version": 3
   },
   "file_extension": ".py",
   "mimetype": "text/x-python",
   "name": "python",
   "nbconvert_exporter": "python",
   "pygments_lexer": "ipython3",
   "version": "3.12.1"
  }
 },
 "nbformat": 4,
 "nbformat_minor": 5
}
