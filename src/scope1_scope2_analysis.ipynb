{
 "cells": [
  {
   "cell_type": "code",
   "execution_count": 1,
   "id": "f7f4dbb7-986b-4eec-8b15-a99bf5ebb536",
   "metadata": {},
   "outputs": [],
   "source": [
    "import pandas as pd\n",
    "import numpy as np"
   ]
  },
  {
   "cell_type": "markdown",
   "id": "bbc08fa2-9117-4629-a519-007ad40c1e4c",
   "metadata": {},
   "source": [
    "---\n",
    "1. Total Scope 1 and 2 Emissions (tons of CO2e): This is the dependent variable that represents the combined direct and indirect greenhouse gas emissions.\n",
    "2. Charlie (in mil USD): Represents costs incurred on the emission.\n",
    "3. Romeo (mil USD): Represent production value of emission.\n",
    "4. Echo (Number): The total number of community members affected.\n",
    "5. Alpha (mil USD): Total market capital of the company.\n",
    "---"
   ]
  },
  {
   "cell_type": "markdown",
   "id": "aab82ac8-0e26-4db4-b19e-c99bddd3300e",
   "metadata": {},
   "source": [
    "#### Methodology for Model Development\n",
    "\n",
    "1. Describe the methodology applied for developing Scope 1 and 2 emission estimation models.\n",
    "2. Justify the choice of the model/methodology using statistical logic and reasoning.\n",
    "---\n",
    "#### Model Results Summary\n",
    "1. Provide an overview and summary of the results obtained from the developed models.\n",
    "Model Validation\n",
    "2. Briefly explain the model validation process.\n",
    "3. Justify the choice of metrics or validation process used, highlighting their relevance and effectiveness.\n",
    "\n",
    "---\n",
    "\n",
    "#### Sector Analysis\n",
    "1. Identify and analyze which sectors have higher Scope 1 and 2 emissions and which have lower\n",
    "emissions.\n",
    "2. Explain the reasons behind the differences in emission levels across sectors.\n",
    "---\n",
    "#### Data Requirements for Model Improvement\n",
    "1. Identify additional data that could improve the accuracy and reliability of the emission\n",
    "estimation models.\n",
    "2. Explain how the additional data would enhance the models and lead to better results.o better results."
   ]
  },
  {
   "cell_type": "code",
   "execution_count": 4,
   "id": "43e2e29c-e08e-4072-be54-14501f02f41b",
   "metadata": {
    "scrolled": true
   },
   "outputs": [
    {
     "data": {
      "text/html": [
       "<div>\n",
       "<style scoped>\n",
       "    .dataframe tbody tr th:only-of-type {\n",
       "        vertical-align: middle;\n",
       "    }\n",
       "\n",
       "    .dataframe tbody tr th {\n",
       "        vertical-align: top;\n",
       "    }\n",
       "\n",
       "    .dataframe thead th {\n",
       "        text-align: right;\n",
       "    }\n",
       "</style>\n",
       "<table border=\"1\" class=\"dataframe\">\n",
       "  <thead>\n",
       "    <tr style=\"text-align: right;\">\n",
       "      <th></th>\n",
       "      <th>Company Identifier</th>\n",
       "      <th>Total S1+S2 (tCo2e)</th>\n",
       "      <th>Subsector Name</th>\n",
       "      <th>Charlie (milUSD)</th>\n",
       "      <th>Alpha (milUSD)</th>\n",
       "      <th>Romeo (milUSD)</th>\n",
       "      <th>Echo</th>\n",
       "    </tr>\n",
       "  </thead>\n",
       "  <tbody>\n",
       "    <tr>\n",
       "      <th>0</th>\n",
       "      <td>1</td>\n",
       "      <td>6399.0</td>\n",
       "      <td>Software</td>\n",
       "      <td>NaN</td>\n",
       "      <td>NaN</td>\n",
       "      <td>NaN</td>\n",
       "      <td>NaN</td>\n",
       "    </tr>\n",
       "    <tr>\n",
       "      <th>1</th>\n",
       "      <td>2</td>\n",
       "      <td>59990.0</td>\n",
       "      <td>Software</td>\n",
       "      <td>1270.020324</td>\n",
       "      <td>1061.630736</td>\n",
       "      <td>8869.070062</td>\n",
       "      <td>21357.0</td>\n",
       "    </tr>\n",
       "    <tr>\n",
       "      <th>2</th>\n",
       "      <td>3</td>\n",
       "      <td>296160.0</td>\n",
       "      <td>Specialty Chemicals</td>\n",
       "      <td>6292.864579</td>\n",
       "      <td>2018.705686</td>\n",
       "      <td>10689.439260</td>\n",
       "      <td>34500.0</td>\n",
       "    </tr>\n",
       "    <tr>\n",
       "      <th>3</th>\n",
       "      <td>4</td>\n",
       "      <td>960000.0</td>\n",
       "      <td>Specialty Chemicals</td>\n",
       "      <td>2107.656246</td>\n",
       "      <td>2956.230233</td>\n",
       "      <td>3302.499773</td>\n",
       "      <td>5900.0</td>\n",
       "    </tr>\n",
       "    <tr>\n",
       "      <th>4</th>\n",
       "      <td>5</td>\n",
       "      <td>253641.0</td>\n",
       "      <td>Health Care  Services</td>\n",
       "      <td>8208.619341</td>\n",
       "      <td>1746.387752</td>\n",
       "      <td>11090.105310</td>\n",
       "      <td>61000.0</td>\n",
       "    </tr>\n",
       "  </tbody>\n",
       "</table>\n",
       "</div>"
      ],
      "text/plain": [
       "   Company Identifier  Total S1+S2 (tCo2e)         Subsector Name  \\\n",
       "0                   1               6399.0               Software   \n",
       "1                   2              59990.0               Software   \n",
       "2                   3             296160.0    Specialty Chemicals   \n",
       "3                   4             960000.0    Specialty Chemicals   \n",
       "4                   5             253641.0  Health Care  Services   \n",
       "\n",
       "   Charlie (milUSD)  Alpha (milUSD)  Romeo (milUSD)     Echo  \n",
       "0               NaN             NaN             NaN      NaN  \n",
       "1       1270.020324     1061.630736     8869.070062  21357.0  \n",
       "2       6292.864579     2018.705686    10689.439260  34500.0  \n",
       "3       2107.656246     2956.230233     3302.499773   5900.0  \n",
       "4       8208.619341     1746.387752    11090.105310  61000.0  "
      ]
     },
     "execution_count": 4,
     "metadata": {},
     "output_type": "execute_result"
    }
   ],
   "source": [
    "data_path = r\"E:\\Workspace\\Data Science\\Data Science Project\\scope_1_scope_2_emmisions\\ISSCaseStudy_Sample data for modelling.csv\"\n",
    "\n",
    "df = pd.read_csv(data_path)\n",
    "df.head(5)"
   ]
  }
 ],
 "metadata": {
  "kernelspec": {
   "display_name": "Python 3 (ipykernel)",
   "language": "python",
   "name": "python3"
  },
  "language_info": {
   "codemirror_mode": {
    "name": "ipython",
    "version": 3
   },
   "file_extension": ".py",
   "mimetype": "text/x-python",
   "name": "python",
   "nbconvert_exporter": "python",
   "pygments_lexer": "ipython3",
   "version": "3.8.13"
  }
 },
 "nbformat": 4,
 "nbformat_minor": 5
}
